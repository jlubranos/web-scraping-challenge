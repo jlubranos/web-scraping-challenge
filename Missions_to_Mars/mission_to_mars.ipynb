{
 "cells": [
  {
   "cell_type": "code",
   "execution_count": 1,
   "metadata": {},
   "outputs": [],
   "source": [
    "import time\n",
    "import re\n",
    "import pandas as pd\n",
    "from splinter import Browser\n",
    "from bs4 import BeautifulSoup\n",
    "from webdriver_manager.chrome import ChromeDriverManager"
   ]
  },
  {
   "cell_type": "code",
   "execution_count": 2,
   "metadata": {
    "scrolled": true
   },
   "outputs": [
    {
     "name": "stderr",
     "output_type": "stream",
     "text": [
      "[WDM] - Current google-chrome version is 86.0.4240\n",
      "[WDM] - Get LATEST driver version for 86.0.4240\n",
      "[WDM] - Driver [C:\\Users\\jlubr\\.wdm\\drivers\\chromedriver\\win32\\86.0.4240.22\\chromedriver.exe] found in cache\n"
     ]
    },
    {
     "name": "stdout",
     "output_type": "stream",
     "text": [
      " \n"
     ]
    }
   ],
   "source": [
    "executable_path={'executable_path':ChromeDriverManager().install()}\n",
    "browser=Browser('chrome',**executable_path, headless=False)"
   ]
  },
  {
   "cell_type": "markdown",
   "metadata": {},
   "source": [
    "# Nasa Mars News"
   ]
  },
  {
   "cell_type": "code",
   "execution_count": 4,
   "metadata": {
    "scrolled": true
   },
   "outputs": [
    {
     "name": "stdout",
     "output_type": "stream",
     "text": [
      "MOXIE Could Help Future Rockets Launch Off Mars\n",
      "NASA's Perseverance rover carries a device to convert Martian air into oxygen that, if produced on a larger scale, could be used not just for breathing, but also for fuel.\n"
     ]
    }
   ],
   "source": [
    "url='https://mars.nasa.gov/news'\n",
    "browser.visit(url)\n",
    "html=browser.html\n",
    "soup=BeautifulSoup(html,'html.parser')\n",
    "time.sleep(10)\n",
    "news_title=str(soup.find('div',{'class':['bottom_gradient']}))\n",
    "news_p=str(soup.find('div',{'class':['article_teaser_body']}))\n",
    "title=re.search('<h3>(.*?)</h3>',news_title)\n",
    "title=str(title.group(1))\n",
    "paragraph=re.search('>(.*?)</div>',news_p)\n",
    "paragraph=str(paragraph.group(1))\n",
    "print(title)\n",
    "print(paragraph)"
   ]
  },
  {
   "cell_type": "markdown",
   "metadata": {},
   "source": [
    "# JPL Mars Space Images - Feature Image"
   ]
  },
  {
   "cell_type": "code",
   "execution_count": 5,
   "metadata": {},
   "outputs": [
    {
     "name": "stdout",
     "output_type": "stream",
     "text": [
      "https://www.jpl.nasa.gov/spaceimages/images/largesize/PIA17357_hires.jpg\n"
     ]
    }
   ],
   "source": [
    "url='https://www.jpl.nasa.gov/spaceimages/?search=&category=Mars'\n",
    "browser.visit(url)\n",
    "html=browser.html\n",
    "soup=BeautifulSoup(html,'html.parser')\n",
    "browser.links.find_by_partial_text('FULL IMAGE').click()\n",
    "browser.links.find_by_partial_text('more info').click()\n",
    "moreinfo=browser.html\n",
    "moreinfosoup=BeautifulSoup(moreinfo,'html.parser')\n",
    "find=str(moreinfosoup.find('figure',{'class':['lede']}))\n",
    "image=find.split('<a href=\"')[1]\n",
    "image=image.split('\">')[0]\n",
    "featured_image_url=url.split('/spaceimages/?')[0] + image\n",
    "print(featured_image_url)"
   ]
  },
  {
   "cell_type": "markdown",
   "metadata": {},
   "source": [
    "# Mars Facts"
   ]
  },
  {
   "cell_type": "code",
   "execution_count": 6,
   "metadata": {},
   "outputs": [
    {
     "name": "stdout",
     "output_type": "stream",
     "text": [
      "['Equatorial Diameter', 'Polar Diameter', 'Mass', 'Moons', 'Orbit Distance', 'Orbit Period', 'Surface Temperature', 'First Record', 'Recorded By']\n",
      "['6,792 km', '6,752 km', '6.39 × 10^23 kg (0.11 Earths)', '2 (Phobos & Deimos)', '227,943,824 km (1.38 AU)', '687 days (1.9 years)', '-87 to -5 °C', '2nd millennium BC', 'Egyptian astronomers']\n"
     ]
    }
   ],
   "source": [
    "url=\"https://space-facts.com/mars\"\n",
    "browser.visit(url)\n",
    "html=browser.html\n",
    "soup=BeautifulSoup(html,'html.parser')\n",
    "table=soup.find('tbody')\n",
    "column_one=table.find_all('td',{'class':['column-1']})\n",
    "column_two=table.find_all('td',{'class':['column-2']})\n",
    "col_one=[]\n",
    "col_two=[]\n",
    "for i in range(len(column_one)):\n",
    "    col_one.append(str(column_one[i].text).split(':')[0])\n",
    "    col_two.append(str(column_two[i].text))\n",
    "print(col_one)\n",
    "print(col_two)"
   ]
  },
  {
   "cell_type": "markdown",
   "metadata": {},
   "source": [
    "# Convert DataFrame to Html file"
   ]
  },
  {
   "cell_type": "code",
   "execution_count": 7,
   "metadata": {},
   "outputs": [
    {
     "name": "stdout",
     "output_type": "stream",
     "text": [
      "<table border=\"1\" class=\"dataframe\">\n",
      "  <thead>\n",
      "    <tr style=\"text-align: right;\">\n",
      "      <th></th>\n",
      "      <th>Mars</th>\n",
      "    </tr>\n",
      "    <tr>\n",
      "      <th>Description</th>\n",
      "      <th></th>\n",
      "    </tr>\n",
      "  </thead>\n",
      "  <tbody>\n",
      "    <tr>\n",
      "      <th>Equatorial Diameter</th>\n",
      "      <td>6,792 km</td>\n",
      "    </tr>\n",
      "    <tr>\n",
      "      <th>Polar Diameter</th>\n",
      "      <td>6,752 km</td>\n",
      "    </tr>\n",
      "    <tr>\n",
      "      <th>Mass</th>\n",
      "      <td>6.39 × 10^23 kg (0.11 Earths)</td>\n",
      "    </tr>\n",
      "    <tr>\n",
      "      <th>Moons</th>\n",
      "      <td>2 (Phobos &amp; Deimos)</td>\n",
      "    </tr>\n",
      "    <tr>\n",
      "      <th>Orbit Distance</th>\n",
      "      <td>227,943,824 km (1.38 AU)</td>\n",
      "    </tr>\n",
      "    <tr>\n",
      "      <th>Orbit Period</th>\n",
      "      <td>687 days (1.9 years)</td>\n",
      "    </tr>\n",
      "    <tr>\n",
      "      <th>Surface Temperature</th>\n",
      "      <td>-87 to -5 °C</td>\n",
      "    </tr>\n",
      "    <tr>\n",
      "      <th>First Record</th>\n",
      "      <td>2nd millennium BC</td>\n",
      "    </tr>\n",
      "    <tr>\n",
      "      <th>Recorded By</th>\n",
      "      <td>Egyptian astronomers</td>\n",
      "    </tr>\n",
      "  </tbody>\n",
      "</table>\n"
     ]
    }
   ],
   "source": [
    "facts_df=pd.DataFrame({\"Description\":col_one,\"Mars\":col_two})\n",
    "facts_df.set_index(\"Description\",inplace=True)\n",
    "html=facts_df.to_html()\n",
    "facts_html = html.replace('<th>','<th align=\"left\">')\n",
    "facts_file = open(\"marsfacts.html\", \"w\") \n",
    "facts_file.write(facts_html) \n",
    "facts_file.close() \n",
    "print(html)"
   ]
  },
  {
   "cell_type": "markdown",
   "metadata": {},
   "source": [
    "# Mars Hemispheres"
   ]
  },
  {
   "cell_type": "code",
   "execution_count": 8,
   "metadata": {
    "scrolled": true
   },
   "outputs": [
    {
     "name": "stdout",
     "output_type": "stream",
     "text": [
      "[{'title': 'Cerberus Hemisphere Enhanced', 'url': 'https://astrogeology.usgs.gov/cache/images/f5e372a36edfa389625da6d0cc25d905_cerberus_enhanced.tif_full.jpg'}, {'title': 'Schiaparelli Hemisphere Enhanced', 'url': 'https://astrogeology.usgs.gov/cache/images/3778f7b43bbbc89d6e3cfabb3613ba93_schiaparelli_enhanced.tif_full.jpg'}, {'title': 'Syrtis Major Hemisphere Enhanced', 'url': 'https://astrogeology.usgs.gov/cache/images/555e6403a6ddd7ba16ddb0e471cadcf7_syrtis_major_enhanced.tif_full.jpg'}, {'title': 'Valles Marineris Hemisphere Enhanced', 'url': 'https://astrogeology.usgs.gov/cache/images/b3c7c6c9138f57b4756be9b9c43e3a48_valles_marineris_enhanced.tif_full.jpg'}]\n"
     ]
    }
   ],
   "source": [
    "url=\"https://astrogeology.usgs.gov/search/results?q=hemisphere+enhanced&k1-target&v1=Mars\"\n",
    "browser.visit(url)\n",
    "html=browser.html\n",
    "soup=BeautifulSoup(html,'html.parser')\n",
    "links=soup.find_all('a',{'class':['itemLink product-item']})\n",
    "hemisphere_image_urls=[]\n",
    "image_url={}\n",
    "for link in links:\n",
    "    title=str(link.get_text())\n",
    "    if len(title)>0:\n",
    "        url=str(link.get('href'))\n",
    "        image_url['title']=title\n",
    "        image_jpg='https://astrogeology.usgs.gov'+url\n",
    "        browser.visit(image_jpg)\n",
    "        html=browser.html\n",
    "        soup=BeautifulSoup(html,'html.parser')\n",
    "        image=soup.find('img',{'class':['wide-image']})\n",
    "        image_url['url']='https://astrogeology.usgs.gov' + str(image.get('src'))\n",
    "        browser.back()\n",
    "        hemisphere_image_urls.append(dict(image_url))\n",
    "print(hemisphere_image_urls)"
   ]
  },
  {
   "cell_type": "markdown",
   "metadata": {},
   "source": [
    "# Insert all scraped data into mars_data dictionary"
   ]
  },
  {
   "cell_type": "code",
   "execution_count": 9,
   "metadata": {},
   "outputs": [
    {
     "name": "stdout",
     "output_type": "stream",
     "text": [
      "{'news_data': 'Valles Marineris Hemisphere Enhanced', 'news_prgh': \"NASA's Perseverance rover carries a device to convert Martian air into oxygen that, if produced on a larger scale, could be used not just for breathing, but also for fuel.\", 'fimage': 'https://www.jpl.nasa.gov/spaceimages/images/largesize/PIA17357_hires.jpg', 'html': '<html lang=\"en\"><head>\\n\\t\\t<link rel=\"stylesheet\" type=\"text/css\" href=\"//ajax.googleapis.com/ajax/libs/jqueryui/1.11.4/themes/smoothness/jquery-ui.css\">\\n<title>Valles Marineris Hemisphere Enhanced | USGS Astrogeology Science Center</title>\\n\\t\\t<meta name=\"description\" content=\"Mosaic of the Valles Marineris hemisphere of Mars projected into point perspective, a view similar to that which one would…\">\\n\\t\\t<meta name=\"keywords\" content=\"USGS,Astrogeology Science Center,Cartography,Geology,Space,Geological Survey,Mapping\">\\n\\t\\t<meta http-equiv=\"X-UA-Compatible\" content=\"IE=edge\">\\n\\t\\t<meta http-equiv=\"Content-Type\" content=\"text/html; charset=utf-8\">\\n\\t\\t<meta name=\"viewport\" content=\"width=device-width, initial-scale=1, maximum-scale=1\">\\n\\t\\t<meta name=\"google-site-verification\" content=\"x61hXXVj7wtfBSNOPnTftajMsZ5yB2W-qRoyr7GtOKM\">\\n\\t\\t<!--<link rel=\"stylesheet\" href=\"http://fonts.googleapis.com/css?family=Open+Sans:400italic,400,bold\"/>-->\\n\\t\\t<link rel=\"stylesheet\" media=\"screen\" href=\"/css/main.css\">\\n\\t\\t<link rel=\"stylesheet\" media=\"print\" href=\"/css/print.css\">\\n\\t\\t<!--[if lt IE 9]>\\n\\t\\t\\t<script src=\"http://html5shiv.googlecode.com/svn/trunk/html5.js\"></script>\\n\\t\\t\\t<script src=\"/js/respond.min.js\"></script>\\n\\t\\t\\t<link rel=\"stylesheet\" type=\"text/css\" href=\"/css/ie.css\"/>\\n                        <script>\\n                          document.createElement(\\'header\\');\\n                          document.createElement(\\'nav\\');\\n                          document.createElement(\\'section\\');\\n                          document.createElement(\\'article\\');\\n                          document.createElement(\\'aside\\');\\n                          document.createElement(\\'footer\\');\\n                          document.createElement(\\'hgroup\\');\\n                        </script>\\n                  <![endif]-->\\n\\t\\t<link rel=\"icon\" type=\"image/x-ico\" href=\"/favicon.ico\">\\n\\t</head>\\n\\t<body id=\"splashy\">\\n\\t\\t<header>\\n<!--\\n\\t\\t\\t<h1>Astrogeology Science Center</h1>\\n-->\\n\\t\\t\\t<a href=\"https://www.usgs.gov/centers/astrogeo-sc\" style=\"float:right;margin-top:10px;\" target=\"_blank\">\\n\\t\\t\\t\\t<img class=\"logo\" height=\"60\" src=\"/images/usgs_logo_main_2x.png\" alt=\"USGS: Science for a Changing World\">\\n\\t\\t\\t</a>\\n\\t\\t\\t<a href=\"https://nasa.gov\" style=\"float:right;margin-top:5px;margin-right:20px;\" target=\"_blank\">\\n\\t\\t\\t\\t<img class=\"logo\" height=\"65\" src=\"/images/logos/nasa-logo-web-med.png\" alt=\"NASA\">\\n\\t\\t\\t</a>\\n\\t\\t\\t<a href=\"https://www.usgs.gov/centers/astrogeology-science-center/science/pds-cartography-and-imaging-sciences-node-usgs\" style=\"float:right;margin-top:5px;margin-right: 10px;\" target=\"_blank\">\\n\\t\\t\\t\\t<img class=\"logo\" height=\"65\" src=\"/images/pds_logo-invisible-web.png\" alt=\"PDS Cartography and Imaging Science Node\">\\n\\t\\t\\t</a>\\n\\t\\t</header>\\n\\t\\t<div class=\"wrapper\">\\n<!--\\n\\t\\t\\t<nav>\\n\\t\\t\\t\\t<a id=\"nav-toggle\" href=\"#\" title=\"Navigation Menu\">Menu</a>\\n<ul class=\"dropdown dropdown-horizontal\" id=\"yw0\">\\n<li><a href=\"/\">Home</a></li>\\n<li><a href=\"/about\">About</a>\\n<ul>\\n<li><a href=\"/about/careers\">Careers</a></li>\\n<li><a href=\"/contact\">Contact</a></li>\\n<li><a href=\"/about/events\">Events</a></li>\\n<li><a href=\"/site/glossary\">Glossary</a></li>\\n<li><a href=\"/about/mission\">Mission</a></li>\\n<li><a href=\"/news\">News</a></li>\\n<li><a href=\"/people\">People</a></li>\\n<li><a href=\"/about/using-our-images\">Using Our Images</a></li>\\n<li><a href=\"/about/visitors\">Visitors</a></li>\\n</ul>\\n</li>\\n<li><a href=\"/facilities\">Labs / Facilities</a>\\n<ul>\\n<li><a href=\"/facilities/flynn-creek-crater-sample-collection\">Flynn Creek Crater Sample Collection</a></li>\\n<li><a href=\"http://www.moon-cal.org\">Lunar Calibration Project</a></li>\\n<li><a href=\"/facilities/meteor-crater-sample-collection\">Meteor Crater Sample Collection</a></li>\\n<li><a href=\"/facilities/mrctr\">MRCTR GIS Lab</a></li>\\n<li><a href=\"/facilities/cartography-and-imaging-sciences-node-of-nasa-planetary-data-system\">PDS Cartography and Imaging Sciences Node</a></li>\\n<li><a href=\"/pds/annex\">PDS IMG Annex</a></li>\\n<li><a href=\"/facilities/photogrammetry-guest-facility\">Photogrammetry Guest Facility</a></li>\\n<li><a href=\"/rpif\">Regional Planetary Information Facility (RPIF)</a></li>\\n</ul>\\n</li>\\n<li><a href=\"/maps\">Maps / Products</a>\\n<ul>\\n<li><a href=\"/search\">Product Search</a></li>\\n<li><a href=\"http://planetarynames.wr.usgs.gov\">Gazetteer of Planetary Nomenclature</a></li>\\n<li><a href=\"http://planetarymapping.wr.usgs.gov\">Geologic Mapping Program</a></li>\\n<li><a href=\"http://pilot.wr.usgs.gov\">Planetary Image Locator Tool (PILOT)</a></li>\\n<li><a href=\"/search/planetary-index\">Planetary Map Index</a></li>\\n</ul>\\n</li>\\n<li><a href=\"/geology\">Missions / Research</a>\\n<ul>\\n<li><a href=\"/geology/mars-dunes\">Mars Dunes</a></li>\\n<li><a href=\"/geology/mars-ice\">Mars Ice</a></li>\\n<li><a href=\"/missions\">Mission Support</a></li>\\n<li><a href=\"/solar-system\">Solar System</a></li>\\n<li><a href=\"/groups\">Working Groups</a></li>\\n</ul>\\n</li>\\n<li><a href=\"/tools\">Tools</a>\\n<ul>\\n<li><a href=\"http://planetarynames.wr.usgs.gov\">Gazetteer of Planetary Nomenclature</a></li>\\n<li><a href=\"http://isis.astrogeology.usgs.gov\">Integrated Software for Imagers and Spectrometers (ISIS)</a></li>\\n<li><a href=\"http://astrogeology.usgs.gov/tools/map-a-planet-2\">Map a Planet 2</a></li>\\n<li><a href=\"http://pilot.wr.usgs.gov\">Planetary Image Locator Tool (PILOT)</a></li>\\n<li><a href=\"http://astrocloud.wr.usgs.gov/\">Projection on the Web (POW)</a></li>\\n</ul>\\n</li>\\n</ul>\\t\\t\\t\\t<form id=\"search\" class=\"search\" action=\"/search/results\" method=\"get\">\\n\\t\\t\\t\\t\\t<input type=\"submit\" value=\"\" title=\"Search Astropedia\"/>\\n\\t\\t\\t\\t\\t<input type=\"text\" placeholder=\"Search\" name=\"q\"/>\\n\\t\\t\\t\\t</form>\\n\\t\\t\\t</nav>\\n-->\\n\\t\\t\\t<div class=\"container\">\\n\\t\\t\\t\\t<div class=\"widget block bar\">\\n  <a style=\"float:right;text-decoration:none;\" href=\"/search\">\\n\\t\\t<img style=\"width:200px;border:none;float:right;\" src=\"/images/astropedia/astropedia-logo-main.png\" alt=\"Astropedia\">\\n\\t\\t<div style=\"clear:both;font-size:.8em;float:right;color:#888;\">Lunar and Planetary Cartographic Catalog</div>\\n  </a>\\n   <div style=\"float:left;height:60px;\">\\n   </div>\\n</div>\\n<div id=\"wide-image\" class=\"wide-image-wrapper \">\\n   \\n\\t<div class=\"downloads\">\\n\\t\\t<img class=\"thumb\" src=\"/cache/images/4e59980c1c57f89c680c0e1ccabbeff1_valles_marineris_enhanced.tif_thumb.png\">\\n\\t\\t<h3>Download</h3>\\n<ul>\\n\\n\\t   <li><a target=\"_blank\" href=\"https://astropedia.astrogeology.usgs.gov/download/Mars/Viking/valles_marineris_enhanced.tif/full.jpg\">Sample</a> (jpg) 1024px wide</li>\\n\\t   <li><a target=\"_blank\" href=\"https://astropedia.astrogeology.usgs.gov/download/Mars/Viking/valles_marineris_enhanced.tif\">Original</a> (tif<span class=\"tooltip word-tif\" title=\"\"></span>) 27 MB</li>\\n\\t\\t</ul>\\n\\t</div>\\n\\n\\t<img class=\"wide-image\" src=\"/cache/images/b3c7c6c9138f57b4756be9b9c43e3a48_valles_marineris_enhanced.tif_full.jpg\">\\n\\t\\t<a id=\"wide-image-toggle\" class=\"open-toggle\" href=\"#open\">Open</a>\\n\\t</div>\\n\\t<div class=\"content\">\\n\\n\\n\\t\\t<section class=\"block metadata\">\\n<!--\\n\\t\\t\\t-->\\n\\t\\t\\t<h2 class=\"title\">Valles Marineris Hemisphere Enhanced</h2>\\n\\t\\t\\t\\t\\t\\t\\t <p>Mosaic of the Valles Marineris hemisphere of Mars projected into point perspective, a view similar to that which one would see from a spacecraft. The distance is 2500 kilometers from the surface of the planet, with the scale being .6km/pixel. The mosaic is composed of 102 Viking Orbiter images of Mars. The center of the scene (lat -8, long 78) shows the entire Valles Marineris canyon system, over 2000 kilometers long and up to 8 kilometers deep, extending form Noctis Labyrinthus, the arcuate system of graben to the west, to the chaotic terrain to the east. Many huge ancient river channels begin from the chaotic terrain from north-central canyons and run north. The three Tharsis volcanoes (dark red spots), each about 25 kilometers high, are visible to the west. South of Valles Marineris is very ancient terrain covered by many impact craters.</p>\\n\\n\\t\\t\\t\\t\\t\\t<dl>\\n \\t\\t         \\n\\t\\t\\t\\t<dt>Mimetype</dt>\\n\\t\\t\\t\\t   <!--\\n\\t\\t\\t\\t<dd><a href=\"/search/results?m=image/tiff\">image/tiff</a></dd>\\n\\t\\t\\t\\t   -->\\n                                <dd>image/tiff</dd>\\n\\t\\t\\t<dt>Filename</dt><dd><a href=\"https://astropedia.astrogeology.usgs.gov/download/Mars/Viking/valles_marineris_enhanced.tif\">valles_marineris_enhanced.tif<span class=\"tooltip word-tif\" title=\"\"></span></a></dd><dt>Originator</dt><dd></dd><dt>Group</dt><dd></dd><dt>Added to Astropedia</dt><dd>29 September 2011</dd><dt>Modified</dt><dd>3 November 2017</dd></dl><h2>General</h2><dl><dt>Geospatial Data Presentation Form</dt><dd><a href=\"/search/results?k1=geospatial_data_presentation_form&amp;v1=Global+Mosaic\">Global Mosaic</a></dd></dl><h2>Keywords</h2><dl><dt>Target</dt><dd><a href=\"/search?pmi-target=mars\">Mars</a></dd><dt>Theme</dt><dd><a href=\"/search/results?k1=theme&amp;v1=Canyons\">Canyons</a></dd><dt>Mission</dt><dd><a href=\"/search/results?k1=mission&amp;v1=Viking+Orbiter\">Viking Orbiter</a></dd></dl><h2>Geospatial Information</h2><dl><dt>Quad Name</dt><dd></dd>\\t\\t</dl>\\n\\t</section>\\n</div>\\n<div class=\"sidebar\">\\n\\n<div class=\"block\">\\n    <h3 class=\"title\">FGDC: <a href=\"https://astrogeology.usgs.gov/search/map/Mars/Viking/valles_marineris_enhanced.xml\" style=\"text-decoration:none;\" id=\"fgdcLink\" download=\"\">xml metadata</a></h3>\\n    <script>\\n       var currentURL = window.location.href+\\'.xml\\';\\n       document.getElementById(\\'fgdcLink\\').href=currentURL;\\n    </script>\\n</div>\\n\\n\\t<div class=\"block\">\\n\\t\\t<h3 class=\"title\">Related Products</h3>\\n\\n\\t\\t<a href=\"/search/map/Mars/Viking/valles_marineris_unenhanced\" class=\"item\">\\n\\t\\t\\t<img class=\"thumb description-thumb\" src=\"/cache/images/f789a481f60deaf01996343999491211_valles_marineris_unenhanced.tif_thumb.png\" alt=\"Valles Marineris Hemisphere Unenhanced thumbnail\">\\n\\t\\t\\t<div class=\"description\">\\n\\t\\t\\t\\t<h3>Valles Marineris Hemisphere Unenhanced</h3>\\n\\t<p>Mosaic of the Valles Marineris hemisphere of Mars projected into…</p>\\n\\t\\t\\t</div>\\n\\t\\t</a>\\n\\t\\n\\t\\t<a href=\"/search/map/Mars/Viking/syrtis_major_unenhanced\" class=\"item\">\\n\\t\\t\\t<img class=\"thumb description-thumb\" src=\"/cache/images/79133220f6cb61a5a091ce8ecee3e554_syrtis_major_unenhanced.tif_thumb.png\" alt=\"Syrtis Major Hemisphere Unenhanced thumbnail\">\\n\\t\\t\\t<div class=\"description\">\\n\\t\\t\\t\\t<h3>Syrtis Major Hemisphere Unenhanced</h3>\\n\\t<p>Mosaic of the Syrtis Major hemisphere of Mars projected into point…</p>\\n\\t\\t\\t</div>\\n\\t\\t</a>\\n\\t\\n\\t\\t<a href=\"/search/map/Mars/Viking/syrtis_major_enhanced\" class=\"item\">\\n\\t\\t\\t<img class=\"thumb description-thumb\" src=\"/cache/images/55a0a1e2796313fdeafb17c35925e8ac_syrtis_major_enhanced.tif_thumb.png\" alt=\"Syrtis Major Hemisphere Enhanced thumbnail\">\\n\\t\\t\\t<div class=\"description\">\\n\\t\\t\\t\\t<h3>Syrtis Major Hemisphere Enhanced</h3>\\n\\t<p>Mosaic of the Syrtis Major hemisphere of Mars projected into point…</p>\\n\\t\\t\\t</div>\\n\\t\\t</a>\\n\\t\\n\\t\\t<a href=\"/search/map/Mars/Viking/schiaparelli_unenhanced\" class=\"item\">\\n\\t\\t\\t<img class=\"thumb description-thumb\" src=\"/cache/images/158e3984b3b1dcdb73f87897a0be0fe6_schiaparelli_unenhanced.tif_thumb.png\" alt=\"Schiaparelli Hemisphere Unenhanced thumbnail\">\\n\\t\\t\\t<div class=\"description\">\\n\\t\\t\\t\\t<h3>Schiaparelli Hemisphere Unenhanced</h3>\\n\\t<p>Mosaic of the Schiaparelli hemisphere of Mars projected into point…</p>\\n\\t\\t\\t</div>\\n\\t\\t</a>\\n\\t\\n\\t\\t<a href=\"/search/map/Mars/Viking/schiaparelli_enhanced\" class=\"item\">\\n\\t\\t\\t<img class=\"thumb description-thumb\" src=\"/cache/images/08eac6e22c07fb1fe72223a79252de20_schiaparelli_enhanced.tif_thumb.png\" alt=\"Schiaparelli Hemisphere Enhanced thumbnail\">\\n\\t\\t\\t<div class=\"description\">\\n\\t\\t\\t\\t<h3>Schiaparelli Hemisphere Enhanced</h3>\\n\\t<p>Mosaic of the Schiaparelli hemisphere of Mars projected into point…</p>\\n\\t\\t\\t</div>\\n\\t\\t</a>\\n\\t<ul class=\"page-numbers\"><li><a class=\"active \" href=\"/search/map/Mars/Viking/valles_marineris_enhanced?p=1&amp;pb=1#downloads\">1</a></li><li><a class=\"\" href=\"/search/map/Mars/Viking/valles_marineris_enhanced?p=2&amp;pb=1#downloads\">2</a></li></ul></div></div>\\n\\t\\t\\t</div>\\n\\t\\t\\t\\t\\t\\t\\t<div class=\"icons projects black scroll-wrapper\">\\n\\t\\t\\t\\t\\t<div class=\"scroll\">\\n\\t\\t\\t\\t\\t\\t<a title=\"Integrated Software for Imagers and Spectrometers\" href=\"http://isis.astrogeology.usgs.gov\" class=\"icon\">\\n\\t\\t\\t\\t\\t\\t\\t<img alt=\"ISIS Logo\" height=\"112\" width=\"112\" src=\"/images/logos/isis_2x.jpg\">\\n\\t\\t\\t\\t\\t\\t\\t<span class=\"label\">ISIS</span>\\n\\t\\t\\t\\t\\t\\t</a>\\n\\t\\t\\t\\t\\t\\t<a title=\"Gazetteer of Planetary Nomenclature\" href=\"http://planetarynames.wr.usgs.gov\" class=\"icon\">\\n\\t\\t\\t\\t\\t\\t\\t<img alt=\"Nomenclature Logo\" height=\"112\" width=\"112\" src=\"/images/logos/nomenclature_2x.jpg\">\\n\\t\\t\\t\\t\\t\\t\\t<span class=\"label\">Planetary Nomenclature</span>\\n\\t\\t\\t\\t\\t\\t</a>\\n\\t\\t\\t\\t\\t\\t<a title=\"Map a Planet 2\" href=\"https://astrogeology.usgs.gov/tools/map-a-planet-2\" class=\"icon\">\\n\\t\\t\\t\\t\\t\\t\\t<img alt=\"Map-a-Planet Logo\" height=\"112\" width=\"112\" src=\"/images/logos/map_a_planet_2x.jpg\">\\n\\t\\t\\t\\t\\t\\t\\t<span class=\"label\">Map a Planet 2</span>\\n\\t\\t\\t\\t\\t\\t</a>\\n\\t\\t\\t\\t\\t\\t<a title=\"PDS Cartography and Imaging Science Node\" href=\"https://www.usgs.gov/centers/astrogeo-sc/science/cartography-and-imaging-sciences-node-nasa-planetary-data-system\" class=\"icon\">\\n\\t\\t\\t\\t\\t\\t\\t<img alt=\"PDS Logo\" height=\"112\" src=\"/images/pds_logo-black-web.png\">\\n\\t\\t\\t\\t\\t\\t\\t<span class=\"label\">PDS Cartography and Imaging Science Node</span>\\n\\t\\t\\t\\t\\t\\t</a>\\n<!--\\n\\t\\t\\t\\t\\t\\t<a title=\"Astropedia Search\" href=\"/search\" class=\"icon\">\\n\\t\\t\\t\\t\\t\\t\\t<img alt=\"Astropedia Logo\" height=\"112\" width=\"112\" src=\"/images/logos/astropedia_2x.jpg\"/>\\n\\t\\t\\t\\t\\t\\t\\t<span class=\"label\">Astropedia</span>\\n\\t\\t\\t\\t\\t\\t</a>\\n-->\\n\\t\\t\\t\\t\\t\\t<a title=\"Regional Planetary Image Facility\" href=\"https://www.usgs.gov/centers/astrogeo-sc/science/regional-planetary-image-facility-rpif\" class=\"icon\">\\n\\t\\t\\t\\t\\t\\t\\t<img alt=\"RPIF Logo\" height=\"112\" width=\"112\" src=\"/images/logos/rpif_2x.jpg\">\\n\\t\\t\\t\\t\\t\\t\\t<span class=\"label\">RPIF</span>\\n\\t\\t\\t\\t\\t\\t</a>\\n\\t\\t\\t\\t\\t\\t<a title=\"Photogrammetry Guest Facility\" href=\"\" class=\"icon\">\\n\\t\\t\\t\\t\\t\\t\\t<img alt=\"Photogrammetry Guest Faciltiy Logo\" height=\"112\" width=\"112\" src=\"/images/logos/photogrammetry_2x.jpg\">\\n\\t\\t\\t\\t\\t\\t\\t<span class=\"label\">Photogrammetry Guest Facility</span>\\n\\t\\t\\t\\t\\t\\t</a>\\n\\t\\t\\t\\t\\t\\t<a title=\"Planetary Image Locator Tool\" href=\"http://pilot.wr.usgs.gov\" class=\"icon\">\\n\\t\\t\\t\\t\\t\\t\\t<img alt=\"Pilot Logo\" height=\"112\" width=\"112\" src=\"/images/logos/pilot_2x.jpg\">\\n\\t\\t\\t\\t\\t\\t\\t<span class=\"label\">PILOT</span>\\n\\t\\t\\t\\t\\t\\t</a>\\n\\t\\t\\t\\t\\t\\t<a title=\"Mapping, Remote-sensing, Cartography, Technology and Research GIS Lab\" href=\"https://www.usgs.gov/centers/astrogeo-sc/science/mrctr-gis-lab\" class=\"icon\">\\n\\t\\t\\t\\t\\t\\t\\t<img alt=\"MRCTR GIS Lab Logo\" height=\"112\" width=\"112\" src=\"/images/logos/mrctr_man_2x.png\">\\n\\t\\t\\t\\t\\t\\t\\t<span class=\"label\">MRCTR GIS Lab</span>\\n\\t\\t\\t\\t\\t\\t</a>\\n\\t\\t\\t\\t\\t</div>\\n\\t\\t\\t\\t</div>\\n\\t\\t\\t\\t\\t\\t<footer>\\n\\t\\t\\t\\t<div class=\"left\">\\n\\t\\t\\t\\t\\t<a href=\"http://astrogeology.usgs.gov/search\">Search</a> |\\n\\t\\t\\t\\t\\t<a href=\"http://astrogeology.usgs.gov/maps/about\">About</a> |\\n\\t\\t\\t\\t\\t<a href=\"http://astrogeology.usgs.gov/maps/contact\">Contact</a>\\n\\t\\t\\t\\t</div>\\n\\t\\t\\t\\t<div class=\"right\">\\n                                        <a href=\"https://www.usgs.gov/centers/astrogeo-sc\">USGS Astrogeology Science Center</a>\\n\\t\\t\\t\\t</div>\\n\\t\\t\\t</footer>\\n\\t\\t</div>\\n<!--\\n\\t\\t<div class=\"credit\">\\n\\t\\t\\t<small>Background Credits: NASA/USGS</small>\\n\\t\\t</div>\\n-->\\n\\t\\t<div class=\"page-background\" style=\"\\n\\t\\t\\tbackground:url(\\'/images/backgrounds/mars.jpg\\');\\n\\t\\t\\tfilter:progid:DXImageTransform.Microsoft.AlphaImageLoader(\\n\\t\\t\\t\\tsrc=\\'/images/backgrounds/mars.jpg\\', sizingMethod=\\'scale\\');\\n\\t\\t\"></div>\\n\\t\\t<script type=\"text/javascript\">\\nvar baseUrl = \"\";\\n\\n/*\\nvar _gaq = _gaq || [];_gaq.push([\\'_setAccount\\', \\'UA-27613186-1\\']);_gaq.push([\\'_trackPageview\\']);(function() { var ga = document.createElement(\\'script\\'); ga.type = \\'text/javascript\\'; ga.async = true;ga.src = (\\'https:\\' == document.location.protocol ? \\'https://ssl\\' : \\'http://www\\') + \\'.google-analytics.com/ga.js\\'; var s = document.getElementsByTagName(\\'script\\')[0]; s.parentNode.insertBefore(ga, s);})();\\n*/\\n\\t\\t</script>\\n\\t<script type=\"text/javascript\" src=\"https://ajax.googleapis.com/ajax/libs/jquery/1.11.1/jquery.min.js\"></script>\\n<script type=\"text/javascript\" src=\"//ajax.googleapis.com/ajax/libs/jqueryui/1.11.4/jquery-ui.min.js\"></script>\\n<script type=\"text/javascript\" src=\"https://astropedia.astrogeology.usgs.gov/downloadWeb/dynamic/glossary.js\"></script>\\n<script type=\"text/javascript\" src=\"/js/astro-tips.js\"></script>\\n<script type=\"text/javascript\" src=\"/js/general.js\"></script>\\n<script type=\"text/javascript\">\\n/*<![CDATA[*/\\nshowTooltips(\".downloads, .content dl, .listing\", true);\\n/*]]>*/\\n</script><div role=\"log\" aria-live=\"assertive\" aria-relevant=\"additions\" class=\"ui-helper-hidden-accessible\"></div><div role=\"log\" aria-live=\"assertive\" aria-relevant=\"additions\" class=\"ui-helper-hidden-accessible\"></div>\\n\\n\\n</body><style type=\"text/css\">.abu-menu-parent-container{\\r\\n    width: 0!important;\\r\\n    height: 0!important;\\r\\n    padding: 0!important;\\r\\n    margin: 0!important;\\r\\n    box-shadow: none!important;\\r\\n    border: none!important;\\r\\n    outline: none!important;\\r\\n}</style><div class=\"abu-menu-parent-container\" style=\"width: 0px; height: 0px; padding: 0px; margin: 0px; box-shadow: none; border: none; outline: none;\"></div></html>', 'hemiimgurls': [{'title': 'Cerberus Hemisphere Enhanced', 'url': 'https://astrogeology.usgs.gov/cache/images/f5e372a36edfa389625da6d0cc25d905_cerberus_enhanced.tif_full.jpg'}, {'title': 'Schiaparelli Hemisphere Enhanced', 'url': 'https://astrogeology.usgs.gov/cache/images/3778f7b43bbbc89d6e3cfabb3613ba93_schiaparelli_enhanced.tif_full.jpg'}, {'title': 'Syrtis Major Hemisphere Enhanced', 'url': 'https://astrogeology.usgs.gov/cache/images/555e6403a6ddd7ba16ddb0e471cadcf7_syrtis_major_enhanced.tif_full.jpg'}, {'title': 'Valles Marineris Hemisphere Enhanced', 'url': 'https://astrogeology.usgs.gov/cache/images/b3c7c6c9138f57b4756be9b9c43e3a48_valles_marineris_enhanced.tif_full.jpg'}]}\n"
     ]
    }
   ],
   "source": [
    "mars_data = {\n",
    "    'news_data':title,\n",
    "    'news_prgh':paragraph,\n",
    "    'fimage':featured_image_url,\n",
    "    'html':html,\n",
    "    'hemiimgurls':hemisphere_image_urls\n",
    "}\n",
    "\n",
    "print(mars_data)"
   ]
  }
 ],
 "metadata": {
  "kernelspec": {
   "display_name": "Python 3",
   "language": "python",
   "name": "python3"
  },
  "language_info": {
   "codemirror_mode": {
    "name": "ipython",
    "version": 3
   },
   "file_extension": ".py",
   "mimetype": "text/x-python",
   "name": "python",
   "nbconvert_exporter": "python",
   "pygments_lexer": "ipython3",
   "version": "3.6.10"
  }
 },
 "nbformat": 4,
 "nbformat_minor": 4
}
