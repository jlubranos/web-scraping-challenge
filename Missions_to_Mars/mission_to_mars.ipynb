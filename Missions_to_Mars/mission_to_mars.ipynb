{
 "cells": [
  {
   "cell_type": "code",
   "execution_count": 5,
   "metadata": {},
   "outputs": [],
   "source": [
    "import pandas as pd\n",
    "from splinter import Browser\n",
    "from bs4 import BeautifulSoup\n",
    "from webdriver_manager.chrome import ChromeDriverManager"
   ]
  },
  {
   "cell_type": "code",
   "execution_count": 6,
   "metadata": {},
   "outputs": [
    {
     "name": "stderr",
     "output_type": "stream",
     "text": [
      "[WDM] - Current google-chrome version is 86.0.4240\n",
      "[WDM] - Get LATEST driver version for 86.0.4240\n",
      "[WDM] - Driver [C:\\Users\\jlubr\\.wdm\\drivers\\chromedriver\\win32\\86.0.4240.22\\chromedriver.exe] found in cache\n"
     ]
    },
    {
     "name": "stdout",
     "output_type": "stream",
     "text": [
      " \n"
     ]
    }
   ],
   "source": [
    "executable_path={'executable_path':ChromeDriverManager().install()}\n",
    "browser=Browser('chrome',**executable_path, headless=False)"
   ]
  },
  {
   "cell_type": "markdown",
   "metadata": {},
   "source": [
    "# Nasa Mars News"
   ]
  },
  {
   "cell_type": "code",
   "execution_count": 14,
   "metadata": {
    "scrolled": true
   },
   "outputs": [
    {
     "name": "stdout",
     "output_type": "stream",
     "text": [
      "MOXIE Could Help Future Rockets Launch Off Mars\n",
      "NASA's Perseverance rover carries a device to convert Martian air into oxygen that, if produced on a larger scale, could be used not just for breathing, but also for fuel.\n"
     ]
    }
   ],
   "source": [
    "url='https://mars.nasa.gov/news'\n",
    "browser.visit(url)\n",
    "html=browser.html\n",
    "soup=BeautifulSoup(html,'html.parser')\n",
    "news_title=str(soup.find('div',{'class':['bottom_gradient']}))\n",
    "news_p=str(soup.find('div',{'class':['article_teaser_body']}))\n",
    "news_title=news_title.split('</h3>')[0]\n",
    "news_title=news_title.split('<h3>')[1]\n",
    "print(news_title)\n",
    "news_p=news_p.split('</div>')[0]\n",
    "news_p=news_p.split('>')[1]\n",
    "print(news_p)\n"
   ]
  },
  {
   "cell_type": "markdown",
   "metadata": {},
   "source": [
    "# JPL Mars Space Images - Feature Image"
   ]
  },
  {
   "cell_type": "code",
   "execution_count": null,
   "metadata": {},
   "outputs": [],
   "source": [
    "url='https://www.jpl.nasa.gov/spaceimages/?search=&category=Mars'\n",
    "browser.visit(url)\n",
    "html=browser.html\n",
    "soup=BeautifulSoup(html,'html.parser')\n",
    "browser.links.find_by_partial_text('FULL IMAGE').click()\n",
    "browser.links.find_by_partial_text('more info').click()\n",
    "moreinfo=browser.html\n",
    "moreinfosoup=BeautifulSoup(moreinfo,'html.parser')\n",
    "find=str(moreinfosoup.find('figure',{'class':['lede']}))\n",
    "image=find.split('<a href=\"')[1]\n",
    "image=image.split('\">')[0]\n",
    "featured_image_url=url.split('/spaceimages/?')[0] + image\n",
    "print(featured_image_url)"
   ]
  },
  {
   "cell_type": "markdown",
   "metadata": {},
   "source": [
    "# Mars Facts"
   ]
  },
  {
   "cell_type": "code",
   "execution_count": null,
   "metadata": {},
   "outputs": [],
   "source": [
    "url=\"https://space-facts.com/mars\"\n",
    "browser.visit(url)\n",
    "html=browser.html\n",
    "soup=BeautifulSoup(html,'html.parser')\n",
    "table=soup.find('tbody')\n",
    "column_one=table.find_all('td',{'class':['column-1']})\n",
    "column_two=table.find_all('td',{'class':['column-2']})\n",
    "col_one=[]\n",
    "col_two=[]\n",
    "for i in range(len(column_one)):\n",
    "    col_one.append(str(column_one[i].text).split(':')[0])\n",
    "    col_two.append(str(column_two[i].text))\n",
    "print(col_one)\n",
    "print(col_two)"
   ]
  },
  {
   "cell_type": "markdown",
   "metadata": {},
   "source": [
    "# Convert DataFrame to Html file"
   ]
  },
  {
   "cell_type": "code",
   "execution_count": null,
   "metadata": {},
   "outputs": [],
   "source": [
    "facts_df=pd.DataFrame({\"Description\":col_one,\"Mars\":col_two})\n",
    "facts_df.set_index(\"Description\",inplace=True)\n",
    "html=facts_df.to_html()\n",
    "facts_html = html.replace('<th>','<th align=\"left\">')\n",
    "facts_file = open(\"marsfacts.html\", \"w\") \n",
    "facts_file.write(facts_html) \n",
    "facts_file.close() \n",
    "print(html)"
   ]
  },
  {
   "cell_type": "markdown",
   "metadata": {},
   "source": [
    "# Mars Hemispheres"
   ]
  },
  {
   "cell_type": "code",
   "execution_count": null,
   "metadata": {
    "scrolled": true
   },
   "outputs": [],
   "source": [
    "url=\"https://astrogeology.usgs.gov/search/results?q=hemisphere+enhanced&k1-target&v1=Mars\"\n",
    "browser.visit(url)\n",
    "html=browser.html\n",
    "soup=BeautifulSoup(html,'html.parser')\n",
    "links=soup.find_all('a',{'class':['itemLink product-item']})\n",
    "hemisphere_image_urls=[]\n",
    "image_url={}\n",
    "for link in links:\n",
    "    title=str(link.get_text())\n",
    "    if len(title)>0:\n",
    "        url=str(link.get('href'))\n",
    "        image_url['title']=title\n",
    "        image_jpg='https://astrogeology.usgs.gov'+url\n",
    "        browser.visit(image_jpg)\n",
    "        html=browser.html\n",
    "        soup=BeautifulSoup(html,'html.parser')\n",
    "        image=soup.find('img',{'class':['wide-image']})\n",
    "        image_url['url']='https://astrogeology.usgs.gov' + str(image.get('src'))\n",
    "        browser.back()\n",
    "        hemisphere_image_urls.append(dict(image_url))\n",
    "print(hemisphere_image_urls)"
   ]
  },
  {
   "cell_type": "markdown",
   "metadata": {},
   "source": [
    "# Insert all scraped data into mars_data dictionary"
   ]
  },
  {
   "cell_type": "code",
   "execution_count": null,
   "metadata": {},
   "outputs": [],
   "source": [
    "mars_data = {\n",
    "    'news_data':news_title,\n",
    "    'news_prgh':news_p,\n",
    "    'fimage':featured_image_url,\n",
    "    'html':html,\n",
    "    'hemiimgurls':hemisphere_image_urls\n",
    "}\n",
    "\n",
    "print(mars_data)"
   ]
  }
 ],
 "metadata": {
  "kernelspec": {
   "display_name": "Python 3",
   "language": "python",
   "name": "python3"
  },
  "language_info": {
   "codemirror_mode": {
    "name": "ipython",
    "version": 3
   },
   "file_extension": ".py",
   "mimetype": "text/x-python",
   "name": "python",
   "nbconvert_exporter": "python",
   "pygments_lexer": "ipython3",
   "version": "3.6.10"
  }
 },
 "nbformat": 4,
 "nbformat_minor": 4
}
