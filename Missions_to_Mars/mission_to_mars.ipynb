{
 "cells": [
  {
   "cell_type": "code",
   "execution_count": 6,
   "metadata": {},
   "outputs": [],
   "source": [
    "from splinter import Browser\n",
    "from bs4 import BeautifulSoup\n",
    "from webdriver_manager.chrome import ChromeDriverManager"
   ]
  },
  {
   "cell_type": "code",
   "execution_count": 7,
   "metadata": {},
   "outputs": [
    {
     "name": "stderr",
     "output_type": "stream",
     "text": [
      "[WDM] - Current google-chrome version is 86.0.4240\n",
      "[WDM] - Get LATEST driver version for 86.0.4240\n",
      "[WDM] - Driver [C:\\Users\\jlubr\\.wdm\\drivers\\chromedriver\\win32\\86.0.4240.22\\chromedriver.exe] found in cache\n"
     ]
    },
    {
     "name": "stdout",
     "output_type": "stream",
     "text": [
      " \n"
     ]
    }
   ],
   "source": [
    "executable_path={'executable_path':ChromeDriverManager().install()}\n",
    "browser=Browser('chrome',**executable_path, headless=False)"
   ]
  },
  {
   "cell_type": "code",
   "execution_count": 12,
   "metadata": {},
   "outputs": [],
   "source": [
    "url='https://mars.nasa.gov/news'\n",
    "browser.visit(url)"
   ]
  },
  {
   "cell_type": "code",
   "execution_count": 24,
   "metadata": {},
   "outputs": [
    {
     "name": "stdout",
     "output_type": "stream",
     "text": [
      "Mars Now\n",
      "Hear Audio From NASA's Perseverance As It Travels Through Deep Space\n",
      "Mars Is Getting a New Robotic Meteorologist\n",
      "Heat and Dust Help Launch Martian Water Into Space, Scientists Find\n",
      "NASA's Curiosity Takes Selfie With 'Mary Anning' on the Red Planet\n",
      "Independent Review Indicates NASA Prepared for Mars Sample Return Campaign\n",
      "NASA's Perseverance Rover 100 Days Out\n",
      "NASA's Perseverance Rover Is Midway to Mars \n",
      "Sensors on Mars 2020 Spacecraft Answer Long-Distance Call From Earth\n",
      "NASA's Perseverance Rover Bringing 3D-Printed Metal Parts to Mars\n",
      "NASA InSight's 'Mole' Is Out of Sight\n",
      "NASA's Perseverance Rover Will Peer Beneath Mars' Surface \n",
      "AI Is Helping Scientists Discover Fresh Craters on Mars\n",
      "NASA's New Mars Rover Is Ready for Space Lasers\n",
      "NASA's New Mars Rover Will Use X-Rays to Hunt Fossils\n",
      "My Culture, My Voice\n",
      "NASA Readies Perseverance Mars Rover's Earthly Twin \n",
      "NASA Engineers Checking InSight's Weather Sensors\n",
      "Follow NASA's Perseverance Rover in Real Time on Its Way to Mars\n",
      "NASA Establishes Board to Initially Review Mars Sample Return Plans\n",
      "NASA's Ingenuity Mars Helicopter Recharges Its Batteries in Flight\n",
      "Celebrate Mars Reconnaissance Orbiter's Views From Above\n",
      "NASA's MAVEN Observes Martian Night Sky Pulsing in Ultraviolet Light\n",
      "8 Martian Postcards to Celebrate Curiosity's Landing Anniversary\n",
      "NASA, ULA Launch Mars 2020 Perseverance Rover Mission to Red Planet\n",
      "NASA's Perseverance Rover Will Carry First Spacesuit Materials to Mars\n",
      "A New Video Captures the Science of NASA's Perseverance Mars Rover\n",
      "NASA Invites Public to Share Excitement of Mars 2020 Perseverance Rover Launch\n",
      "NASA's Mars Perseverance Rover Passes Flight Readiness Review\n",
      "NASA to Broadcast Mars 2020 Perseverance Launch, Prelaunch Activities\n",
      "6 Things to Know About NASA's Ingenuity Mars Helicopter\n",
      "Join NASA for the Launch of the Mars 2020 Perseverance Rover\n",
      "NASA's Perseverance Rover Attached to Atlas V Rocket\n",
      "7 Things to Know About the Mars 2020 Perseverance Rover Mission\n",
      "NASA's InSight Flexes Its Arm While Its 'Mole' Hits Pause\n",
      "Curiosity Mars Rover's Summer Road Trip Has Begun\n",
      "How NASA's Mars Helicopter Will Reach the Red Planet's Surface\n",
      "The Launch Is Approaching for NASA's Next Mars Rover, Perseverance\n",
      "NASA to Hold Mars 2020 Perseverance Rover Launch Briefing\n",
      "While Stargazing on Mars, NASA's Curiosity Rover Spots Earth and Venus\n",
      "NASA's Mars Rover Drivers Need Your Help\n",
      "\n",
      "\n",
      "Mars Helicopter Attached to NASA's Perseverance Rover\n",
      "\n",
      "\n",
      "\n",
      "\n",
      "NASA's Perseverance Mars Rover Gets Its Wheels and Air Brakes\n",
      "\n",
      "\n",
      "\n",
      "\n",
      "NASA to Broadcast Mars 2020 Perseverance Launch, Prelaunch Activities\n",
      "\n",
      "\n",
      "\n",
      "\n",
      "The Launch Is Approaching for NASA's Next Mars Rover, Perseverance\n",
      "\n",
      "\n",
      "\n",
      "\n",
      "NASA to Hold Mars 2020 Perseverance Rover Launch Briefing\n",
      "\n",
      "\n",
      "\n",
      "\n",
      "Alabama High School Student Names NASA's Mars Helicopter\n",
      "\n",
      "\n",
      "\n",
      "\n",
      "Mars Helicopter Attached to NASA's Perseverance Rover\n",
      "\n",
      "\n",
      "\n",
      "\n",
      "NASA's Perseverance Mars Rover Gets Its Wheels and Air Brakes\n",
      "\n",
      "\n",
      "\n",
      "\n",
      "NASA to Broadcast Mars 2020 Perseverance Launch, Prelaunch Activities\n",
      "\n",
      "\n",
      "\n",
      "\n",
      "The Launch Is Approaching for NASA's Next Mars Rover, Perseverance\n",
      "\n",
      "\n"
     ]
    }
   ],
   "source": [
    "html=browser.html\n",
    "soup=BeautifulSoup(html,'html.parser')\n",
    "news_titles=soup.find_all('div',class_='content_title')\n",
    "for news_title in news_titles:\n",
    "    print(news_title.text)"
   ]
  }
 ],
 "metadata": {
  "kernelspec": {
   "display_name": "Python 3",
   "language": "python",
   "name": "python3"
  },
  "language_info": {
   "codemirror_mode": {
    "name": "ipython",
    "version": 3
   },
   "file_extension": ".py",
   "mimetype": "text/x-python",
   "name": "python",
   "nbconvert_exporter": "python",
   "pygments_lexer": "ipython3",
   "version": "3.6.10"
  }
 },
 "nbformat": 4,
 "nbformat_minor": 4
}
